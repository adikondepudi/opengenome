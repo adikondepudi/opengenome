{
 "cells": [
  {
   "cell_type": "code",
   "execution_count": 3,
   "metadata": {},
   "outputs": [],
   "source": [
    "import pandas as pd\n",
    "import numpy as np\n",
    "\n",
    "# organelle = \"Mitochondria\"\n",
    "\n",
    "# Read the RNA single cell type data into a pandas dataframe and pivot it\n",
    "df_rna_sca = pd.read_csv('rna_single_cell_type.tsv', sep=\"\\t\")\n",
    "df_rna_sca_wide = pd.pivot(df_rna_sca, index=['Gene','Gene name'], columns = 'Cell type', values = 'nTPM')\n",
    "\n",
    "# Reset the index and drop the first column\n",
    "df_rna_sca_wide.reset_index(inplace=True)\n",
    "df_rna_sca_wide.reset_index(drop=True)\n",
    "df_rna_sca_wide = df_rna_sca_wide.iloc[:,1:]\n",
    "\n",
    "# Rename the first column and set the index\n",
    "df_rna_sca_wide.rename(columns={'Gene name':'GENENAME'}, inplace=True)\n",
    "df_rna_sca_wide.set_index(['GENENAME'], inplace=True)\n",
    "\n",
    "# Read the gene location data into a pandas dataframe and clean it\n",
    "# df_location_initial = pd.read_csv(\"./data/subcellular_location.tsv\", sep=\"\\t\")\n",
    "df_location_initial = pd.read_csv(\"subcellular_location.tsv\", sep=\"\\t\")\n",
    "df_location = df_location_initial.iloc[:, :4]\n",
    "df_location = df_location.drop(df_location.columns[[0, 2]], axis=1)\n",
    "df_location = df_location.dropna(how='any')\n",
    "\n",
    "# Rename the column and get the list of gene names\n",
    "df_location.rename(columns={'Gene name':'Gene'}, inplace=True)\n",
    "org_gene_names = df_location['Gene'].tolist()\n",
    "\n",
    "# Filter the RNA single cell type data by organelle if specified\n",
    "df_org_rna_sca_wide = df_rna_sca_wide\n",
    "# if organelle != \"None\":\n",
    "#     df_org_location = df_location.loc[df_location['Main location'].str.contains(organelle)]\n",
    "#     org_gene_names = df_org_location['Gene'].tolist()\n",
    "#     df_org_rna_sca_wide = df_rna_sca_wide[df_rna_sca_wide.index.isin(org_gene_names)]    \n",
    "\n",
    "# Return the log of the RNA single cell type data\n",
    "df = np.log1p(df_org_rna_sca_wide)\n",
    "\n",
    "nameconversion = pd.read_csv(\"nameconversion.csv\")\n",
    "\n",
    "mt_list = df_location.loc[df_location['Main location'].str.contains(\"Mitochondria\")]['Gene'].to_list()\n",
    "er_list = df_location.loc[df_location['Main location'].str.contains(\"Endoplasmic reticulum\")]['Gene'].to_list()\n",
    "ga_list = df_location.loc[df_location['Main location'].str.contains(\"Golgi apparatus\")]['Gene'].to_list()"
   ]
  },
  {
   "cell_type": "code",
   "execution_count": 7,
   "metadata": {},
   "outputs": [
    {
     "data": {
      "text/html": [
       "<div>\n",
       "<style scoped>\n",
       "    .dataframe tbody tr th:only-of-type {\n",
       "        vertical-align: middle;\n",
       "    }\n",
       "\n",
       "    .dataframe tbody tr th {\n",
       "        vertical-align: top;\n",
       "    }\n",
       "\n",
       "    .dataframe thead th {\n",
       "        text-align: right;\n",
       "    }\n",
       "</style>\n",
       "<table border=\"1\" class=\"dataframe\">\n",
       "  <thead>\n",
       "    <tr style=\"text-align: right;\">\n",
       "      <th>Cell type</th>\n",
       "      <th>Adipocytes</th>\n",
       "      <th>Alveolar cells type 1</th>\n",
       "      <th>Alveolar cells type 2</th>\n",
       "      <th>Astrocytes</th>\n",
       "      <th>B-cells</th>\n",
       "      <th>Basal keratinocytes</th>\n",
       "      <th>Basal prostatic cells</th>\n",
       "      <th>Basal respiratory cells</th>\n",
       "      <th>Basal squamous epithelial cells</th>\n",
       "      <th>Bipolar cells</th>\n",
       "      <th>...</th>\n",
       "      <th>Squamous epithelial cells</th>\n",
       "      <th>Suprabasal keratinocytes</th>\n",
       "      <th>Syncytiotrophoblasts</th>\n",
       "      <th>T-cells</th>\n",
       "      <th>Theca cells</th>\n",
       "      <th>Thymic epithelial cells</th>\n",
       "      <th>Undifferentiated cells</th>\n",
       "      <th>dendritic cells</th>\n",
       "      <th>granulocytes</th>\n",
       "      <th>monocytes</th>\n",
       "    </tr>\n",
       "    <tr>\n",
       "      <th>GENENAME</th>\n",
       "      <th></th>\n",
       "      <th></th>\n",
       "      <th></th>\n",
       "      <th></th>\n",
       "      <th></th>\n",
       "      <th></th>\n",
       "      <th></th>\n",
       "      <th></th>\n",
       "      <th></th>\n",
       "      <th></th>\n",
       "      <th></th>\n",
       "      <th></th>\n",
       "      <th></th>\n",
       "      <th></th>\n",
       "      <th></th>\n",
       "      <th></th>\n",
       "      <th></th>\n",
       "      <th></th>\n",
       "      <th></th>\n",
       "      <th></th>\n",
       "      <th></th>\n",
       "    </tr>\n",
       "  </thead>\n",
       "  <tbody>\n",
       "    <tr>\n",
       "      <th>TSPAN6</th>\n",
       "      <td>5.013963</td>\n",
       "      <td>1.960095</td>\n",
       "      <td>2.442347</td>\n",
       "      <td>2.701361</td>\n",
       "      <td>0.916291</td>\n",
       "      <td>2.624669</td>\n",
       "      <td>2.714695</td>\n",
       "      <td>4.333361</td>\n",
       "      <td>3.226844</td>\n",
       "      <td>0.470004</td>\n",
       "      <td>...</td>\n",
       "      <td>3.206803</td>\n",
       "      <td>3.850148</td>\n",
       "      <td>2.580217</td>\n",
       "      <td>1.193922</td>\n",
       "      <td>3.795489</td>\n",
       "      <td>2.681022</td>\n",
       "      <td>4.242765</td>\n",
       "      <td>0.000000</td>\n",
       "      <td>1.629241</td>\n",
       "      <td>0.000000</td>\n",
       "    </tr>\n",
       "    <tr>\n",
       "      <th>TNMD</th>\n",
       "      <td>4.306764</td>\n",
       "      <td>0.000000</td>\n",
       "      <td>0.000000</td>\n",
       "      <td>0.000000</td>\n",
       "      <td>0.000000</td>\n",
       "      <td>0.095310</td>\n",
       "      <td>0.000000</td>\n",
       "      <td>0.000000</td>\n",
       "      <td>0.000000</td>\n",
       "      <td>0.000000</td>\n",
       "      <td>...</td>\n",
       "      <td>0.000000</td>\n",
       "      <td>0.262364</td>\n",
       "      <td>0.000000</td>\n",
       "      <td>0.095310</td>\n",
       "      <td>0.405465</td>\n",
       "      <td>0.000000</td>\n",
       "      <td>0.405465</td>\n",
       "      <td>0.000000</td>\n",
       "      <td>0.000000</td>\n",
       "      <td>0.000000</td>\n",
       "    </tr>\n",
       "    <tr>\n",
       "      <th>DPM1</th>\n",
       "      <td>3.671225</td>\n",
       "      <td>3.744787</td>\n",
       "      <td>3.758872</td>\n",
       "      <td>3.306887</td>\n",
       "      <td>3.430756</td>\n",
       "      <td>4.486387</td>\n",
       "      <td>3.678829</td>\n",
       "      <td>5.477718</td>\n",
       "      <td>3.411148</td>\n",
       "      <td>2.624669</td>\n",
       "      <td>...</td>\n",
       "      <td>3.490429</td>\n",
       "      <td>4.411585</td>\n",
       "      <td>5.598052</td>\n",
       "      <td>3.718438</td>\n",
       "      <td>3.968403</td>\n",
       "      <td>3.246491</td>\n",
       "      <td>4.019980</td>\n",
       "      <td>4.104295</td>\n",
       "      <td>3.790985</td>\n",
       "      <td>3.923952</td>\n",
       "    </tr>\n",
       "    <tr>\n",
       "      <th>SCYL3</th>\n",
       "      <td>1.902108</td>\n",
       "      <td>2.066863</td>\n",
       "      <td>1.902108</td>\n",
       "      <td>2.517696</td>\n",
       "      <td>2.197225</td>\n",
       "      <td>1.589235</td>\n",
       "      <td>1.931521</td>\n",
       "      <td>1.589235</td>\n",
       "      <td>1.987874</td>\n",
       "      <td>2.332144</td>\n",
       "      <td>...</td>\n",
       "      <td>2.272126</td>\n",
       "      <td>1.609438</td>\n",
       "      <td>2.617396</td>\n",
       "      <td>2.501436</td>\n",
       "      <td>1.871802</td>\n",
       "      <td>1.686399</td>\n",
       "      <td>2.282382</td>\n",
       "      <td>2.923162</td>\n",
       "      <td>1.722767</td>\n",
       "      <td>2.151762</td>\n",
       "    </tr>\n",
       "    <tr>\n",
       "      <th>C1orf112</th>\n",
       "      <td>0.875469</td>\n",
       "      <td>0.993252</td>\n",
       "      <td>1.223775</td>\n",
       "      <td>1.629241</td>\n",
       "      <td>1.704748</td>\n",
       "      <td>1.163151</td>\n",
       "      <td>0.788457</td>\n",
       "      <td>1.163151</td>\n",
       "      <td>0.832909</td>\n",
       "      <td>1.974081</td>\n",
       "      <td>...</td>\n",
       "      <td>1.308333</td>\n",
       "      <td>0.641854</td>\n",
       "      <td>1.667707</td>\n",
       "      <td>1.547563</td>\n",
       "      <td>1.098612</td>\n",
       "      <td>1.098612</td>\n",
       "      <td>1.824549</td>\n",
       "      <td>0.336472</td>\n",
       "      <td>1.252763</td>\n",
       "      <td>1.163151</td>\n",
       "    </tr>\n",
       "  </tbody>\n",
       "</table>\n",
       "<p>5 rows × 79 columns</p>\n",
       "</div>"
      ],
      "text/plain": [
       "Cell type  Adipocytes  Alveolar cells type 1  Alveolar cells type 2  \\\n",
       "GENENAME                                                              \n",
       "TSPAN6       5.013963               1.960095               2.442347   \n",
       "TNMD         4.306764               0.000000               0.000000   \n",
       "DPM1         3.671225               3.744787               3.758872   \n",
       "SCYL3        1.902108               2.066863               1.902108   \n",
       "C1orf112     0.875469               0.993252               1.223775   \n",
       "\n",
       "Cell type  Astrocytes   B-cells  Basal keratinocytes  Basal prostatic cells  \\\n",
       "GENENAME                                                                      \n",
       "TSPAN6       2.701361  0.916291             2.624669               2.714695   \n",
       "TNMD         0.000000  0.000000             0.095310               0.000000   \n",
       "DPM1         3.306887  3.430756             4.486387               3.678829   \n",
       "SCYL3        2.517696  2.197225             1.589235               1.931521   \n",
       "C1orf112     1.629241  1.704748             1.163151               0.788457   \n",
       "\n",
       "Cell type  Basal respiratory cells  Basal squamous epithelial cells  \\\n",
       "GENENAME                                                              \n",
       "TSPAN6                    4.333361                         3.226844   \n",
       "TNMD                      0.000000                         0.000000   \n",
       "DPM1                      5.477718                         3.411148   \n",
       "SCYL3                     1.589235                         1.987874   \n",
       "C1orf112                  1.163151                         0.832909   \n",
       "\n",
       "Cell type  Bipolar cells  ...  Squamous epithelial cells  \\\n",
       "GENENAME                  ...                              \n",
       "TSPAN6          0.470004  ...                   3.206803   \n",
       "TNMD            0.000000  ...                   0.000000   \n",
       "DPM1            2.624669  ...                   3.490429   \n",
       "SCYL3           2.332144  ...                   2.272126   \n",
       "C1orf112        1.974081  ...                   1.308333   \n",
       "\n",
       "Cell type  Suprabasal keratinocytes  Syncytiotrophoblasts   T-cells  \\\n",
       "GENENAME                                                              \n",
       "TSPAN6                     3.850148              2.580217  1.193922   \n",
       "TNMD                       0.262364              0.000000  0.095310   \n",
       "DPM1                       4.411585              5.598052  3.718438   \n",
       "SCYL3                      1.609438              2.617396  2.501436   \n",
       "C1orf112                   0.641854              1.667707  1.547563   \n",
       "\n",
       "Cell type  Theca cells  Thymic epithelial cells  Undifferentiated cells  \\\n",
       "GENENAME                                                                  \n",
       "TSPAN6        3.795489                 2.681022                4.242765   \n",
       "TNMD          0.405465                 0.000000                0.405465   \n",
       "DPM1          3.968403                 3.246491                4.019980   \n",
       "SCYL3         1.871802                 1.686399                2.282382   \n",
       "C1orf112      1.098612                 1.098612                1.824549   \n",
       "\n",
       "Cell type  dendritic cells  granulocytes  monocytes  \n",
       "GENENAME                                             \n",
       "TSPAN6            0.000000      1.629241   0.000000  \n",
       "TNMD              0.000000      0.000000   0.000000  \n",
       "DPM1              4.104295      3.790985   3.923952  \n",
       "SCYL3             2.923162      1.722767   2.151762  \n",
       "C1orf112          0.336472      1.252763   1.163151  \n",
       "\n",
       "[5 rows x 79 columns]"
      ]
     },
     "execution_count": 7,
     "metadata": {},
     "output_type": "execute_result"
    }
   ],
   "source": [
    "df.head()"
   ]
  },
  {
   "cell_type": "code",
   "execution_count": 8,
   "metadata": {},
   "outputs": [
    {
     "data": {
      "application/vnd.plotly.v1+json": {
       "config": {
        "plotlyServerURL": "https://plot.ly"
       },
       "data": [
        {
         "coloraxis": "coloraxis",
         "hovertemplate": "Cell type: %{x}<br>GENENAME: %{y}<br>color: %{z}<extra></extra>",
         "name": "0",
         "type": "heatmap",
         "x": [
          "Adipocytes",
          "Alveolar cells type 1",
          "Alveolar cells type 2",
          "Astrocytes",
          "B-cells",
          "Basal keratinocytes",
          "Basal prostatic cells",
          "Basal respiratory cells",
          "Basal squamous epithelial cells",
          "Bipolar cells",
          "Breast glandular cells",
          "Breast myoepithelial cells",
          "Cardiomyocytes",
          "Cholangiocytes",
          "Club cells",
          "Collecting duct cells",
          "Cone photoreceptor cells",
          "Cytotrophoblasts",
          "Distal enterocytes",
          "Distal tubular cells",
          "Ductal cells",
          "Early spermatids",
          "Endometrial ciliated cells",
          "Endometrial stromal cells",
          "Endothelial cells",
          "Enteroendocrine cells",
          "Erythroid cells",
          "Excitatory neurons",
          "Exocrine glandular cells",
          "Extravillous trophoblasts",
          "Fibroblasts",
          "Gastric mucus-secreting cells",
          "Glandular and luminal cells",
          "Granulosa cells",
          "Hepatocytes",
          "Hofbauer cells",
          "Horizontal cells",
          "Inhibitory neurons",
          "Intestinal goblet cells",
          "Ionocytes",
          "Kupffer cells",
          "Langerhans cells",
          "Late spermatids",
          "Leydig cells",
          "Macrophages",
          "Melanocytes",
          "Microglial cells",
          "Mucus glandular cells",
          "Muller glia cells",
          "NK-cells",
          "Oligodendrocyte precursor cells",
          "Oligodendrocytes",
          "Pancreatic endocrine cells",
          "Paneth cells",
          "Peritubular cells",
          "Plasma cells",
          "Prostatic glandular cells",
          "Proximal enterocytes",
          "Proximal tubular cells",
          "Respiratory ciliated cells",
          "Rod photoreceptor cells",
          "Salivary duct cells",
          "Schwann cells",
          "Serous glandular cells",
          "Sertoli cells",
          "Skeletal myocytes",
          "Smooth muscle cells",
          "Spermatocytes",
          "Spermatogonia",
          "Squamous epithelial cells",
          "Suprabasal keratinocytes",
          "Syncytiotrophoblasts",
          "T-cells",
          "Theca cells",
          "Thymic epithelial cells",
          "Undifferentiated cells",
          "dendritic cells",
          "granulocytes",
          "monocytes"
         ],
         "xaxis": "x",
         "y": [],
         "yaxis": "y",
         "z": []
        }
       ],
       "layout": {
        "coloraxis": {
         "colorscale": [
          [
           0,
           "rgb(255,255,217)"
          ],
          [
           0.125,
           "rgb(237,248,177)"
          ],
          [
           0.25,
           "rgb(199,233,180)"
          ],
          [
           0.375,
           "rgb(127,205,187)"
          ],
          [
           0.5,
           "rgb(65,182,196)"
          ],
          [
           0.625,
           "rgb(29,145,192)"
          ],
          [
           0.75,
           "rgb(34,94,168)"
          ],
          [
           0.875,
           "rgb(37,52,148)"
          ],
          [
           1,
           "rgb(8,29,88)"
          ]
         ]
        },
        "height": 800,
        "margin": {
         "t": 60
        },
        "template": {
         "data": {
          "bar": [
           {
            "error_x": {
             "color": "#2a3f5f"
            },
            "error_y": {
             "color": "#2a3f5f"
            },
            "marker": {
             "line": {
              "color": "#E5ECF6",
              "width": 0.5
             },
             "pattern": {
              "fillmode": "overlay",
              "size": 10,
              "solidity": 0.2
             }
            },
            "type": "bar"
           }
          ],
          "barpolar": [
           {
            "marker": {
             "line": {
              "color": "#E5ECF6",
              "width": 0.5
             },
             "pattern": {
              "fillmode": "overlay",
              "size": 10,
              "solidity": 0.2
             }
            },
            "type": "barpolar"
           }
          ],
          "carpet": [
           {
            "aaxis": {
             "endlinecolor": "#2a3f5f",
             "gridcolor": "white",
             "linecolor": "white",
             "minorgridcolor": "white",
             "startlinecolor": "#2a3f5f"
            },
            "baxis": {
             "endlinecolor": "#2a3f5f",
             "gridcolor": "white",
             "linecolor": "white",
             "minorgridcolor": "white",
             "startlinecolor": "#2a3f5f"
            },
            "type": "carpet"
           }
          ],
          "choropleth": [
           {
            "colorbar": {
             "outlinewidth": 0,
             "ticks": ""
            },
            "type": "choropleth"
           }
          ],
          "contour": [
           {
            "colorbar": {
             "outlinewidth": 0,
             "ticks": ""
            },
            "colorscale": [
             [
              0,
              "#0d0887"
             ],
             [
              0.1111111111111111,
              "#46039f"
             ],
             [
              0.2222222222222222,
              "#7201a8"
             ],
             [
              0.3333333333333333,
              "#9c179e"
             ],
             [
              0.4444444444444444,
              "#bd3786"
             ],
             [
              0.5555555555555556,
              "#d8576b"
             ],
             [
              0.6666666666666666,
              "#ed7953"
             ],
             [
              0.7777777777777778,
              "#fb9f3a"
             ],
             [
              0.8888888888888888,
              "#fdca26"
             ],
             [
              1,
              "#f0f921"
             ]
            ],
            "type": "contour"
           }
          ],
          "contourcarpet": [
           {
            "colorbar": {
             "outlinewidth": 0,
             "ticks": ""
            },
            "type": "contourcarpet"
           }
          ],
          "heatmap": [
           {
            "colorbar": {
             "outlinewidth": 0,
             "ticks": ""
            },
            "colorscale": [
             [
              0,
              "#0d0887"
             ],
             [
              0.1111111111111111,
              "#46039f"
             ],
             [
              0.2222222222222222,
              "#7201a8"
             ],
             [
              0.3333333333333333,
              "#9c179e"
             ],
             [
              0.4444444444444444,
              "#bd3786"
             ],
             [
              0.5555555555555556,
              "#d8576b"
             ],
             [
              0.6666666666666666,
              "#ed7953"
             ],
             [
              0.7777777777777778,
              "#fb9f3a"
             ],
             [
              0.8888888888888888,
              "#fdca26"
             ],
             [
              1,
              "#f0f921"
             ]
            ],
            "type": "heatmap"
           }
          ],
          "heatmapgl": [
           {
            "colorbar": {
             "outlinewidth": 0,
             "ticks": ""
            },
            "colorscale": [
             [
              0,
              "#0d0887"
             ],
             [
              0.1111111111111111,
              "#46039f"
             ],
             [
              0.2222222222222222,
              "#7201a8"
             ],
             [
              0.3333333333333333,
              "#9c179e"
             ],
             [
              0.4444444444444444,
              "#bd3786"
             ],
             [
              0.5555555555555556,
              "#d8576b"
             ],
             [
              0.6666666666666666,
              "#ed7953"
             ],
             [
              0.7777777777777778,
              "#fb9f3a"
             ],
             [
              0.8888888888888888,
              "#fdca26"
             ],
             [
              1,
              "#f0f921"
             ]
            ],
            "type": "heatmapgl"
           }
          ],
          "histogram": [
           {
            "marker": {
             "pattern": {
              "fillmode": "overlay",
              "size": 10,
              "solidity": 0.2
             }
            },
            "type": "histogram"
           }
          ],
          "histogram2d": [
           {
            "colorbar": {
             "outlinewidth": 0,
             "ticks": ""
            },
            "colorscale": [
             [
              0,
              "#0d0887"
             ],
             [
              0.1111111111111111,
              "#46039f"
             ],
             [
              0.2222222222222222,
              "#7201a8"
             ],
             [
              0.3333333333333333,
              "#9c179e"
             ],
             [
              0.4444444444444444,
              "#bd3786"
             ],
             [
              0.5555555555555556,
              "#d8576b"
             ],
             [
              0.6666666666666666,
              "#ed7953"
             ],
             [
              0.7777777777777778,
              "#fb9f3a"
             ],
             [
              0.8888888888888888,
              "#fdca26"
             ],
             [
              1,
              "#f0f921"
             ]
            ],
            "type": "histogram2d"
           }
          ],
          "histogram2dcontour": [
           {
            "colorbar": {
             "outlinewidth": 0,
             "ticks": ""
            },
            "colorscale": [
             [
              0,
              "#0d0887"
             ],
             [
              0.1111111111111111,
              "#46039f"
             ],
             [
              0.2222222222222222,
              "#7201a8"
             ],
             [
              0.3333333333333333,
              "#9c179e"
             ],
             [
              0.4444444444444444,
              "#bd3786"
             ],
             [
              0.5555555555555556,
              "#d8576b"
             ],
             [
              0.6666666666666666,
              "#ed7953"
             ],
             [
              0.7777777777777778,
              "#fb9f3a"
             ],
             [
              0.8888888888888888,
              "#fdca26"
             ],
             [
              1,
              "#f0f921"
             ]
            ],
            "type": "histogram2dcontour"
           }
          ],
          "mesh3d": [
           {
            "colorbar": {
             "outlinewidth": 0,
             "ticks": ""
            },
            "type": "mesh3d"
           }
          ],
          "parcoords": [
           {
            "line": {
             "colorbar": {
              "outlinewidth": 0,
              "ticks": ""
             }
            },
            "type": "parcoords"
           }
          ],
          "pie": [
           {
            "automargin": true,
            "type": "pie"
           }
          ],
          "scatter": [
           {
            "fillpattern": {
             "fillmode": "overlay",
             "size": 10,
             "solidity": 0.2
            },
            "type": "scatter"
           }
          ],
          "scatter3d": [
           {
            "line": {
             "colorbar": {
              "outlinewidth": 0,
              "ticks": ""
             }
            },
            "marker": {
             "colorbar": {
              "outlinewidth": 0,
              "ticks": ""
             }
            },
            "type": "scatter3d"
           }
          ],
          "scattercarpet": [
           {
            "marker": {
             "colorbar": {
              "outlinewidth": 0,
              "ticks": ""
             }
            },
            "type": "scattercarpet"
           }
          ],
          "scattergeo": [
           {
            "marker": {
             "colorbar": {
              "outlinewidth": 0,
              "ticks": ""
             }
            },
            "type": "scattergeo"
           }
          ],
          "scattergl": [
           {
            "marker": {
             "colorbar": {
              "outlinewidth": 0,
              "ticks": ""
             }
            },
            "type": "scattergl"
           }
          ],
          "scattermapbox": [
           {
            "marker": {
             "colorbar": {
              "outlinewidth": 0,
              "ticks": ""
             }
            },
            "type": "scattermapbox"
           }
          ],
          "scatterpolar": [
           {
            "marker": {
             "colorbar": {
              "outlinewidth": 0,
              "ticks": ""
             }
            },
            "type": "scatterpolar"
           }
          ],
          "scatterpolargl": [
           {
            "marker": {
             "colorbar": {
              "outlinewidth": 0,
              "ticks": ""
             }
            },
            "type": "scatterpolargl"
           }
          ],
          "scatterternary": [
           {
            "marker": {
             "colorbar": {
              "outlinewidth": 0,
              "ticks": ""
             }
            },
            "type": "scatterternary"
           }
          ],
          "surface": [
           {
            "colorbar": {
             "outlinewidth": 0,
             "ticks": ""
            },
            "colorscale": [
             [
              0,
              "#0d0887"
             ],
             [
              0.1111111111111111,
              "#46039f"
             ],
             [
              0.2222222222222222,
              "#7201a8"
             ],
             [
              0.3333333333333333,
              "#9c179e"
             ],
             [
              0.4444444444444444,
              "#bd3786"
             ],
             [
              0.5555555555555556,
              "#d8576b"
             ],
             [
              0.6666666666666666,
              "#ed7953"
             ],
             [
              0.7777777777777778,
              "#fb9f3a"
             ],
             [
              0.8888888888888888,
              "#fdca26"
             ],
             [
              1,
              "#f0f921"
             ]
            ],
            "type": "surface"
           }
          ],
          "table": [
           {
            "cells": {
             "fill": {
              "color": "#EBF0F8"
             },
             "line": {
              "color": "white"
             }
            },
            "header": {
             "fill": {
              "color": "#C8D4E3"
             },
             "line": {
              "color": "white"
             }
            },
            "type": "table"
           }
          ]
         },
         "layout": {
          "annotationdefaults": {
           "arrowcolor": "#2a3f5f",
           "arrowhead": 0,
           "arrowwidth": 1
          },
          "autotypenumbers": "strict",
          "coloraxis": {
           "colorbar": {
            "outlinewidth": 0,
            "ticks": ""
           }
          },
          "colorscale": {
           "diverging": [
            [
             0,
             "#8e0152"
            ],
            [
             0.1,
             "#c51b7d"
            ],
            [
             0.2,
             "#de77ae"
            ],
            [
             0.3,
             "#f1b6da"
            ],
            [
             0.4,
             "#fde0ef"
            ],
            [
             0.5,
             "#f7f7f7"
            ],
            [
             0.6,
             "#e6f5d0"
            ],
            [
             0.7,
             "#b8e186"
            ],
            [
             0.8,
             "#7fbc41"
            ],
            [
             0.9,
             "#4d9221"
            ],
            [
             1,
             "#276419"
            ]
           ],
           "sequential": [
            [
             0,
             "#0d0887"
            ],
            [
             0.1111111111111111,
             "#46039f"
            ],
            [
             0.2222222222222222,
             "#7201a8"
            ],
            [
             0.3333333333333333,
             "#9c179e"
            ],
            [
             0.4444444444444444,
             "#bd3786"
            ],
            [
             0.5555555555555556,
             "#d8576b"
            ],
            [
             0.6666666666666666,
             "#ed7953"
            ],
            [
             0.7777777777777778,
             "#fb9f3a"
            ],
            [
             0.8888888888888888,
             "#fdca26"
            ],
            [
             1,
             "#f0f921"
            ]
           ],
           "sequentialminus": [
            [
             0,
             "#0d0887"
            ],
            [
             0.1111111111111111,
             "#46039f"
            ],
            [
             0.2222222222222222,
             "#7201a8"
            ],
            [
             0.3333333333333333,
             "#9c179e"
            ],
            [
             0.4444444444444444,
             "#bd3786"
            ],
            [
             0.5555555555555556,
             "#d8576b"
            ],
            [
             0.6666666666666666,
             "#ed7953"
            ],
            [
             0.7777777777777778,
             "#fb9f3a"
            ],
            [
             0.8888888888888888,
             "#fdca26"
            ],
            [
             1,
             "#f0f921"
            ]
           ]
          },
          "colorway": [
           "#636efa",
           "#EF553B",
           "#00cc96",
           "#ab63fa",
           "#FFA15A",
           "#19d3f3",
           "#FF6692",
           "#B6E880",
           "#FF97FF",
           "#FECB52"
          ],
          "font": {
           "color": "#2a3f5f"
          },
          "geo": {
           "bgcolor": "white",
           "lakecolor": "white",
           "landcolor": "#E5ECF6",
           "showlakes": true,
           "showland": true,
           "subunitcolor": "white"
          },
          "hoverlabel": {
           "align": "left"
          },
          "hovermode": "closest",
          "mapbox": {
           "style": "light"
          },
          "paper_bgcolor": "white",
          "plot_bgcolor": "#E5ECF6",
          "polar": {
           "angularaxis": {
            "gridcolor": "white",
            "linecolor": "white",
            "ticks": ""
           },
           "bgcolor": "#E5ECF6",
           "radialaxis": {
            "gridcolor": "white",
            "linecolor": "white",
            "ticks": ""
           }
          },
          "scene": {
           "xaxis": {
            "backgroundcolor": "#E5ECF6",
            "gridcolor": "white",
            "gridwidth": 2,
            "linecolor": "white",
            "showbackground": true,
            "ticks": "",
            "zerolinecolor": "white"
           },
           "yaxis": {
            "backgroundcolor": "#E5ECF6",
            "gridcolor": "white",
            "gridwidth": 2,
            "linecolor": "white",
            "showbackground": true,
            "ticks": "",
            "zerolinecolor": "white"
           },
           "zaxis": {
            "backgroundcolor": "#E5ECF6",
            "gridcolor": "white",
            "gridwidth": 2,
            "linecolor": "white",
            "showbackground": true,
            "ticks": "",
            "zerolinecolor": "white"
           }
          },
          "shapedefaults": {
           "line": {
            "color": "#2a3f5f"
           }
          },
          "ternary": {
           "aaxis": {
            "gridcolor": "white",
            "linecolor": "white",
            "ticks": ""
           },
           "baxis": {
            "gridcolor": "white",
            "linecolor": "white",
            "ticks": ""
           },
           "bgcolor": "#E5ECF6",
           "caxis": {
            "gridcolor": "white",
            "linecolor": "white",
            "ticks": ""
           }
          },
          "title": {
           "x": 0.05
          },
          "xaxis": {
           "automargin": true,
           "gridcolor": "white",
           "linecolor": "white",
           "ticks": "",
           "title": {
            "standoff": 15
           },
           "zerolinecolor": "white",
           "zerolinewidth": 2
          },
          "yaxis": {
           "automargin": true,
           "gridcolor": "white",
           "linecolor": "white",
           "ticks": "",
           "title": {
            "standoff": 15
           },
           "zerolinecolor": "white",
           "zerolinewidth": 2
          }
         }
        },
        "width": 800,
        "xaxis": {
         "anchor": "y",
         "domain": [
          0,
          1
         ],
         "title": {
          "text": "Cell type"
         }
        },
        "yaxis": {
         "anchor": "x",
         "autorange": "reversed",
         "domain": [
          0,
          1
         ],
         "title": {
          "text": "GENENAME"
         }
        }
       }
      }
     },
     "metadata": {},
     "output_type": "display_data"
    }
   ],
   "source": [
    "import plotly.express as px\n",
    "\n",
    "colors = (\"mt\", \"er\", \"ga\", \"chosen_genes\", \"upload_genes\")\n",
    "genes = []\n",
    "\n",
    "if \"mt\" in list(colors):\n",
    "    genes.extend(mt_list)\n",
    "if \"er\" in list(colors):\n",
    "    genes.extend(er_list)\n",
    "if \"ga\" in list(colors):\n",
    "    genes.extend(ga_list)\n",
    "if \"chosen_genes\" in list(colors):\n",
    "    pass\n",
    "if \"upload_genes\" in list(colors):\n",
    "    # genes.append(input.file1)\n",
    "    # TODO complete csv file to gene list conversion\n",
    "    pass\n",
    "df_filter = df.loc[df.index.isin(genes)]\n",
    "heatmap_plot = px.imshow(\n",
    "    df_filter,\n",
    "    aspect='auto',\n",
    "    color_continuous_scale='YlGnBu',\n",
    "    height=800, width=800\n",
    ")\n"
   ]
  }
 ],
 "metadata": {
  "kernelspec": {
   "display_name": "sca",
   "language": "python",
   "name": "python3"
  },
  "language_info": {
   "codemirror_mode": {
    "name": "ipython",
    "version": 3
   },
   "file_extension": ".py",
   "mimetype": "text/x-python",
   "name": "python",
   "nbconvert_exporter": "python",
   "pygments_lexer": "ipython3",
   "version": "3.10.0"
  },
  "orig_nbformat": 4
 },
 "nbformat": 4,
 "nbformat_minor": 2
}
